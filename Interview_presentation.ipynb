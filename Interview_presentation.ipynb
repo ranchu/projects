{
 "cells": [
  {
   "cell_type": "markdown",
   "metadata": {},
   "source": [
    "## Study trends in stock market data.\n",
    "\n",
    "\n",
    "![Stock Market index](Stock_index.png)\n",
    "\n",
    "\n",
    "### First Approach: Random walk models to predict big movements like booms, crashes.\n",
    "\n",
    "![Standard deviation of S&P stock index's percentage change as a function of scale.](tails.png)\n",
    "\n",
    "#### Conclusions: No, these models do not capture big movements.\n",
    "\n",
    "\n",
    "### Time series are complicated and have lot of information. Can we extract a smaller set of variables."
   ]
  },
  {
   "cell_type": "markdown",
   "metadata": {},
   "source": [
    "## Recession of 2007-2008\n",
    "\n",
    "+ ### Bad decisions by finance sector. Caused by housing bubble.\n",
    "![Housing index](Housing_price.png)\n",
    "\n",
    "+ ### Was the crash a cascade starting from the finance sector to others?\n",
    "\n",
    "\n"
   ]
  },
  {
   "cell_type": "markdown",
   "metadata": {},
   "source": [
    "### Preliminary analysis of stocks of top 300 companies by market capitalization.\n",
    "\n",
    "For a window from 2006-2011 studied some measures. \n",
    "\n",
    "+ When did the stocks reach their minimum.\n",
    "\n",
    "![Days when the stocks crashed](Crash_days.png)\n",
    "\n",
    "![Days when the stocks crashed](Crash_days2.png)\n",
    "\n",
    "\n",
    "Caveat: I do not yet have access to data of finance companies which went bankrupt or were acquired. For example, Lehman Brothers (went bankrupt) and Merrill Lynch (bought by JP Morgan).\n",
    "\n",
    "### Not a slow domino. Happened suddenly across all sectors.\n",
    "\n",
    "+ How much did the stock values drop\n",
    "\n",
    "![Percentage drop in stock values](percentage_drop.png)\n",
    "![Percentage drop in stock values](percentage_drop2.png)\n",
    "\n",
    "+ Other features: Volatility, peak stock day, peak stock day before the crash, volatility around recession."
   ]
  },
  {
   "cell_type": "markdown",
   "metadata": {},
   "source": [
    "\n"
   ]
  },
  {
   "cell_type": "markdown",
   "metadata": {},
   "source": [
    "\n",
    "### Recovery of economy\n",
    "\n",
    "+ Recovery of stock market\n",
    "![Stock market recovery](Stock_index_recovery.png)\n",
    "\n",
    "\n",
    "+ General economy\n",
    "\n",
    "![Unemployment rate](Unemploy_rate.png)\n",
    "\n",
    "\n",
    "\n"
   ]
  },
  {
   "cell_type": "markdown",
   "metadata": {},
   "source": [
    "### Future directions. \n",
    "\n",
    "+ The effects of the recession on smaller companies. Recovery time.\n",
    "\n",
    "+ More metrics from the stock data. And then apply classification algorithms to this data to find clusters.\n",
    "\n",
    "+ The recession was global. How fast did the other economies undergo recession and when did they recover?\n",
    "+ Use quarterly reports of the company and study relationship between data revenue and stock values. Correlation between google trends data and stock value changes will be interesting.\n",
    "\n",
    "+ After the recession there has been a constant growth.  Extract features from the data and then study their relationship for various sectors and market capitalization.\n",
    "\n",
    "    \n",
    "\n"
   ]
  },
  {
   "cell_type": "code",
   "execution_count": null,
   "metadata": {
    "collapsed": true
   },
   "outputs": [],
   "source": []
  }
 ],
 "metadata": {
  "kernelspec": {
   "display_name": "Python 2",
   "language": "python",
   "name": "python2"
  },
  "language_info": {
   "codemirror_mode": {
    "name": "ipython",
    "version": 2
   },
   "file_extension": ".py",
   "mimetype": "text/x-python",
   "name": "python",
   "nbconvert_exporter": "python",
   "pygments_lexer": "ipython2",
   "version": "2.7.12"
  }
 },
 "nbformat": 4,
 "nbformat_minor": 2
}
