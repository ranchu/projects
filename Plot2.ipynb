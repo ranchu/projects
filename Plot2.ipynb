{
 "cells": [
  {
   "cell_type": "markdown",
   "metadata": {},
   "source": [
    "### Fat tails\n",
    "\n",
    "The fluctuation (error term) is does not have a Gaussian distribution but has fat tails. This tails are due to \n",
    "booms and crashes of the stock market. We expect that any model which can replicated these trends will not have\n",
    "fat tails.\n",
    "\n",
    "As a first study, consider the random walk and [autoregressive model](https://en.wikipedia.org/wiki/Autoregressive_model) to check whether it incorporates these \n",
    "behavior. The fat tail estimator is $1$ for a Gaussian distribution and $> 1$ in presence of fat tails. \n",
    "The plots show that the best models have a large fat tails. Therefore, \n",
    "\n",
    "In hindsight, it is expected as these are predictive models and predicting the stock market just based on \n",
    "previous values is very difficult.\n",
    "\n",
    "![Standard deviation of S&P stock index's percentage change as a function of scale.](tails.png)\n"
   ]
  },
  {
   "cell_type": "code",
   "execution_count": null,
   "metadata": {
    "collapsed": true
   },
   "outputs": [],
   "source": []
  }
 ],
 "metadata": {
  "kernelspec": {
   "display_name": "Python 2",
   "language": "python",
   "name": "python2"
  },
  "language_info": {
   "codemirror_mode": {
    "name": "ipython",
    "version": 2
   },
   "file_extension": ".py",
   "mimetype": "text/x-python",
   "name": "python",
   "nbconvert_exporter": "python",
   "pygments_lexer": "ipython2",
   "version": "2.7.12"
  }
 },
 "nbformat": 4,
 "nbformat_minor": 2
}
