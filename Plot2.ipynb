{
 "cells": [
  {
   "cell_type": "markdown",
   "metadata": {},
   "source": [
    "### Fat tails\n",
    "\n",
    "\n",
    "The random variable $\\xi_n$ (see Plot1 notebook)  does not have a Gaussian distribution but has fat tails. These tails are due to booms and crashes of the stock market. We expect that any model which can extract bubbles will not have fat tails.\n",
    "\n",
    "As a first study, consider the random walk and [autoregressive (AR) model](https://en.wikipedia.org/wiki/Autoregressive_model). \n",
    "The fat tail estimator is $1$ for a Gaussian distribution and $> 1$ in the presence of fat tails. \n",
    "The plots show that the best fits of these models have fat tails. Therefore,  random walk and AR models cannot be used to extract bubbles from stock data.\n",
    "\n",
    "![Standard deviation of S&P stock index's percentage change as a function of scale.](tails.png)\n"
   ]
  },
  {
   "cell_type": "code",
   "execution_count": null,
   "metadata": {
    "collapsed": true
   },
   "outputs": [],
   "source": []
  }
 ],
 "metadata": {
  "kernelspec": {
   "display_name": "Python 2",
   "language": "python",
   "name": "python2"
  },
  "language_info": {
   "codemirror_mode": {
    "name": "ipython",
    "version": 2
   },
   "file_extension": ".py",
   "mimetype": "text/x-python",
   "name": "python",
   "nbconvert_exporter": "python",
   "pygments_lexer": "ipython2",
   "version": "2.7.12"
  }
 },
 "nbformat": 4,
 "nbformat_minor": 2
}
