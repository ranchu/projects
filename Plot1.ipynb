{
 "cells": [
  {
   "cell_type": "markdown",
   "metadata": {},
   "source": [
    "### Random walk hypothesis\n",
    "\n",
    "The [Random walk hypothesis](https://en.wikipedia.org/wiki/Random_walk_hypothesis) states that stock \n",
    "market prices obey a random walk. Of course, not everyone believes in it; else there would not be any quants!\n",
    "Mathematically, the simplest model of the \n",
    "$$\n",
    "X_{n+1} = \\mu + X_n + \\xi_n,\n",
    "$$\n",
    "where $X_n$ is the (log) of the stock index on $nth$ day, $\\mu$ is the drift term and $\\xi_n$ is\n",
    "a random variable with zero mean.\n",
    "\n",
    "A random walk displays self similarity. Roughly speaking, if we zoom out and look at the random walk it \n",
    "still looks like a random walk but with a different variance.\n",
    "For the following figure, I first considered the standard deviation of the stock index's changes between consecutive days (shown in blue). \n",
    "When scale = 2, the time series is constructed by considering days 1, 3, 5, ...; and so on.\n",
    "The stock data agrees well with the red curve which wh\n",
    "with the assumption that $\\xi_n$ are indepedent random variables\n",
    "\n",
    "![Standard deviation of S&P stock index's percentage change as a function of scale.](random_walk.png)\n",
    "\n",
    "\n"
   ]
  },
  {
   "cell_type": "code",
   "execution_count": null,
   "metadata": {
    "collapsed": true
   },
   "outputs": [],
   "source": []
  }
 ],
 "metadata": {
  "kernelspec": {
   "display_name": "Python 2",
   "language": "python",
   "name": "python2"
  },
  "language_info": {
   "codemirror_mode": {
    "name": "ipython",
    "version": 2
   },
   "file_extension": ".py",
   "mimetype": "text/x-python",
   "name": "python",
   "nbconvert_exporter": "python",
   "pygments_lexer": "ipython2",
   "version": "2.7.12"
  }
 },
 "nbformat": 4,
 "nbformat_minor": 2
}
