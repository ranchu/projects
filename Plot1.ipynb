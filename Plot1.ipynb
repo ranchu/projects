{
 "cells": [
  {
   "cell_type": "markdown",
   "metadata": {},
   "source": [
    "### Random walk hypothesis\n",
    "\n",
    "The [Random walk hypothesis](https://en.wikipedia.org/wiki/Random_walk_hypothesis) states that stock \n",
    "market prices obey a random walk. Of course, not everyone believes in it; else there would not be any quants!\n",
    "Mathematically, the simplest model of the \n",
    "$$\n",
    "X_{n+1} = \\mu + X_n + \\xi_n,\n",
    "$$\n",
    "\n",
    "A random walk has a self similarity. Roughly speaking, if we zoom out and look at the random walk it \n",
    "still looks like a random walk but with a different variance.\n",
    "\n",
    "The index of every second is a random walk whose variance is \n",
    "twice the original one. (Therefore, the standard deviation is \n",
    "\n",
    "For the following figure, I first considered the standard deviation of the stock index's changes between consecutive days. When scale = 2, the time series is constructed by using only the mutiples of two and so on. \n",
    "\n",
    "\n",
    "\n",
    "The scale indicates that the  \n",
    "\n",
    "![Standard deviation of S&P stock index's percentage change as a function of scale.](figs/random_walk.png)\n",
    "\n",
    "\n",
    "The original motivation of looking at the time series at different scale was to \n",
    "\n",
    "The data shows implies that pairwise correlation is small. \n",
    "\n",
    "However, the usual "
   ]
  },
  {
   "cell_type": "code",
   "execution_count": null,
   "metadata": {
    "collapsed": true
   },
   "outputs": [],
   "source": []
  }
 ],
 "metadata": {
  "kernelspec": {
   "display_name": "Python 2",
   "language": "python",
   "name": "python2"
  },
  "language_info": {
   "codemirror_mode": {
    "name": "ipython",
    "version": 2
   },
   "file_extension": ".py",
   "mimetype": "text/x-python",
   "name": "python",
   "nbconvert_exporter": "python",
   "pygments_lexer": "ipython2",
   "version": "2.7.12"
  }
 },
 "nbformat": 4,
 "nbformat_minor": 2
}
